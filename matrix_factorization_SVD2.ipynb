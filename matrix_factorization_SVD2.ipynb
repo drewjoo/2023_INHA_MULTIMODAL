{
 "cells": [
  {
   "cell_type": "code",
   "execution_count": 1,
   "id": "e2438b38",
   "metadata": {},
   "outputs": [],
   "source": [
    "import numpy as np\n",
    "import pandas as pd\n",
    "from sklearn.metrics import mean_squared_error"
   ]
  },
  {
   "cell_type": "markdown",
   "id": "508d643f",
   "metadata": {},
   "source": [
    "# SVD Layer2\n",
    "## *sparse_matrix = item_n x user_n*"
   ]
  },
  {
   "cell_type": "code",
   "execution_count": 2,
   "id": "4c43dcf9",
   "metadata": {},
   "outputs": [],
   "source": [
    "class SVD:\n",
    "    \n",
    "    def __init__(self, sparse_matrix, K):\n",
    "        self.sparse_matrix = sparse_matrix\n",
    "        self.K = K\n",
    "        self.init_sparse_matrix()\n",
    "    \n",
    "    def init_sparse_matrix(self):\n",
    "        #SVD에 사용될 Matrix: Nan 값들을 평균으로 채워줌\n",
    "        self.train_matrix = self.sparse_matrix.apply(lambda x: x.fillna(x.mean()), axis=1)\n",
    "        # 예측된 행렬과의 비교를 위한 원본 행렬\n",
    "        self.sparse_matrix = self.sparse_matrix.fillna(0)\n",
    "        \n",
    "    def train(self):\n",
    "        print(\"Factorizing...\")\n",
    "        \n",
    "        # SVD 알고리즘을 통해 Item/User Matrix 분해\n",
    "        item_factors, user_factors = self.get_svd(self.train_matrix, self.K)\n",
    "        \n",
    "        # 두 행렬을 병합하여 pred_matrix 생성\n",
    "        result_df = pd.DataFrame(\n",
    "            np.matmul(item_factors, # item_n * K\n",
    "                      user_factors),# K * user_n\n",
    "            columns=self.sparse_matrix.columns.values,\n",
    "            index=self.sparse_matrix.index.values\n",
    "        )\n",
    "        self.item_factors = item_factors\n",
    "        self.user_factors = user_factors\n",
    "        self.pred_matrix = result_df\n",
    "        \n",
    "    \n",
    "    @staticmethod\n",
    "    def get_svd(sparse_matrix, K): # sparse_matrix = Rating Matrix\n",
    "        U, s, VT = np.linalg.svd(sparse_matrix.transpose())\n",
    "        # U = (user_n, user_n), s = (user_n,), VT = (item_n, item_n)\n",
    "        \n",
    "        # 각 행렬을 K만큼 절단\n",
    "        U = U[:, :K] # (user_n, K)\n",
    "        s = s[:K] * np.identity(K, np.float) # (K, K)\n",
    "        VT = VT[:K, :] # (K, item_n)\n",
    "        \n",
    "        # Item Matrix에 S행렬을 곱해준 후,\n",
    "        #언제든지 행렬곱으로 rating을 예측할 수 있다록 미리 transpose\n",
    "        item_factors = np.transpose(np.matmul(s, VT)) # (item_n, K)\n",
    "        user_factors = np.transpose(U) # (K, user_n)\n",
    "\n",
    "        return item_factors, user_factors\n",
    "    \n",
    "    def evaluate(self):\n",
    "        idx, jdx = self.sparse_matrix.to_numpy().nonzero() # 0이 아니 부분의 위치들\n",
    "        ys, preds = [], [] # 실제 값과 예측 값을 뱉어낼 리스트\n",
    "        for i, j in zip(idx, jdx): # Item i에 대한 User j의 평가\n",
    "            ys.append(self.sparse_matrix.iloc[i, j]) # 원본행렬\n",
    "            preds.append(self.pred_matrix.iloc[i, j]) # 예측행렬\n",
    "\n",
    "        error = mean_squared_error(ys, preds)\n",
    "        return np.sqrt(error)\n"
   ]
  },
  {
   "cell_type": "code",
   "execution_count": 10,
   "id": "a2563f73",
   "metadata": {},
   "outputs": [
    {
     "name": "stdout",
     "output_type": "stream",
     "text": [
      "Factorizing...\n",
      "Root Mean Squared Error (RMSE): 0.6137784748624842\n"
     ]
    },
    {
     "name": "stderr",
     "output_type": "stream",
     "text": [
      "C:\\Users\\PC\\AppData\\Local\\Temp\\ipykernel_3600\\22788149.py:39: DeprecationWarning: `np.float` is a deprecated alias for the builtin `float`. To silence this warning, use `float` by itself. Doing this will not modify any behavior and is safe. If you specifically wanted the numpy scalar type, use `np.float64` here.\n",
      "Deprecated in NumPy 1.20; for more details and guidance: https://numpy.org/devdocs/release/1.20.0-notes.html#deprecations\n",
      "  s = s[:K] * np.identity(K, np.float) # (K, K)\n"
     ]
    }
   ],
   "source": [
    "import pandas as pd\n",
    "import numpy as np\n",
    "from sklearn.metrics import mean_squared_error\n",
    "\n",
    "# 가상의 희소 행렬을 생성하여 SVD 클래스의 인스턴스를 생성\n",
    "sparse_matrix = pd.DataFrame({\n",
    "    'user1': [4, np.nan, 1, 5,3],\n",
    "    'user2': [2, 1, 5, np.nan,2],\n",
    "    'user3': [3, np.nan, 3, 4,2],\n",
    "    'user4': [np.nan, 2, 4, 3,5],\n",
    "}, index = ['item_1','item_2','item_3','item_4','item_5'])\n",
    "K = 2\n",
    "\n",
    "svd_model = SVD(sparse_matrix, K)\n",
    "\n",
    "# 행렬 분해를 수행하고, 예측 행렬을 생성\n",
    "svd_model.train()\n",
    "\n",
    "# 모델의 평가를 수행\n",
    "rmse = svd_model.evaluate()\n",
    "\n",
    "print(\"Root Mean Squared Error (RMSE):\", rmse)"
   ]
  },
  {
   "cell_type": "code",
   "execution_count": 11,
   "id": "97d7eee5",
   "metadata": {},
   "outputs": [
    {
     "data": {
      "text/html": [
       "<div>\n",
       "<style scoped>\n",
       "    .dataframe tbody tr th:only-of-type {\n",
       "        vertical-align: middle;\n",
       "    }\n",
       "\n",
       "    .dataframe tbody tr th {\n",
       "        vertical-align: top;\n",
       "    }\n",
       "\n",
       "    .dataframe thead th {\n",
       "        text-align: right;\n",
       "    }\n",
       "</style>\n",
       "<table border=\"1\" class=\"dataframe\">\n",
       "  <thead>\n",
       "    <tr style=\"text-align: right;\">\n",
       "      <th></th>\n",
       "      <th>user1</th>\n",
       "      <th>user2</th>\n",
       "      <th>user3</th>\n",
       "      <th>user4</th>\n",
       "    </tr>\n",
       "  </thead>\n",
       "  <tbody>\n",
       "    <tr>\n",
       "      <th>item_1</th>\n",
       "      <td>4.0</td>\n",
       "      <td>2.0</td>\n",
       "      <td>3.0</td>\n",
       "      <td>NaN</td>\n",
       "    </tr>\n",
       "    <tr>\n",
       "      <th>item_2</th>\n",
       "      <td>NaN</td>\n",
       "      <td>1.0</td>\n",
       "      <td>NaN</td>\n",
       "      <td>2.0</td>\n",
       "    </tr>\n",
       "    <tr>\n",
       "      <th>item_3</th>\n",
       "      <td>1.0</td>\n",
       "      <td>5.0</td>\n",
       "      <td>3.0</td>\n",
       "      <td>4.0</td>\n",
       "    </tr>\n",
       "    <tr>\n",
       "      <th>item_4</th>\n",
       "      <td>5.0</td>\n",
       "      <td>NaN</td>\n",
       "      <td>4.0</td>\n",
       "      <td>3.0</td>\n",
       "    </tr>\n",
       "    <tr>\n",
       "      <th>item_5</th>\n",
       "      <td>3.0</td>\n",
       "      <td>2.0</td>\n",
       "      <td>2.0</td>\n",
       "      <td>5.0</td>\n",
       "    </tr>\n",
       "  </tbody>\n",
       "</table>\n",
       "</div>"
      ],
      "text/plain": [
       "        user1  user2  user3  user4\n",
       "item_1    4.0    2.0    3.0    NaN\n",
       "item_2    NaN    1.0    NaN    2.0\n",
       "item_3    1.0    5.0    3.0    4.0\n",
       "item_4    5.0    NaN    4.0    3.0\n",
       "item_5    3.0    2.0    2.0    5.0"
      ]
     },
     "execution_count": 11,
     "metadata": {},
     "output_type": "execute_result"
    }
   ],
   "source": [
    "sparse_matrix"
   ]
  },
  {
   "cell_type": "code",
   "execution_count": null,
   "id": "8d0abf83",
   "metadata": {},
   "outputs": [],
   "source": []
  }
 ],
 "metadata": {
  "kernelspec": {
   "display_name": "Python 3 (ipykernel)",
   "language": "python",
   "name": "python3"
  },
  "language_info": {
   "codemirror_mode": {
    "name": "ipython",
    "version": 3
   },
   "file_extension": ".py",
   "mimetype": "text/x-python",
   "name": "python",
   "nbconvert_exporter": "python",
   "pygments_lexer": "ipython3",
   "version": "3.10.9"
  }
 },
 "nbformat": 4,
 "nbformat_minor": 5
}
