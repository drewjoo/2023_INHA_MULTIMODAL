{
 "cells": [
  {
   "cell_type": "code",
   "execution_count": 16,
   "id": "4d59af83",
   "metadata": {},
   "outputs": [],
   "source": [
    "from sklearn.metrics import mean_squared_error\n",
    "import numpy as np\n",
    "from tqdm import trange"
   ]
  },
  {
   "cell_type": "code",
   "execution_count": 29,
   "id": "6f6f70bd",
   "metadata": {},
   "outputs": [],
   "source": [
    "class SGD:\n",
    "\n",
    "    def __init__(self, sparse_matrix, K, lr, beta, n_epochs):\n",
    "        \"\"\"\n",
    "        Arguments\n",
    "        - sparse_matrix : user-item rating matrix\n",
    "        - K (int)       : number of latent dimensions\n",
    "        - lr (float) : learning rate\n",
    "        - beta (float)  : regularization parameter\n",
    "        - n_epochs (int) : Num of Iteration\n",
    "        \"\"\"\n",
    "        # convert ndArray\n",
    "        self.sparse_matrix = sparse_matrix.fillna(0).to_numpy()\n",
    "        self.item_n, self.user_n = sparse_matrix.shape\n",
    "        self.K = K\n",
    "        self.lr = lr\n",
    "        self.beta = beta\n",
    "        self.n_epochs = n_epochs\n",
    "\n",
    "    def train(self):\n",
    "        # Initialize user and item latent feature matrice\n",
    "        self.I = np.random.normal(scale=1./self.K, size=(self.item_n, self.K)) # scale = std\n",
    "        self.U = np.random.normal(scale=1./self.K, size=(self.user_n, self.K))\n",
    "\n",
    "        # Init biases\n",
    "        self.item_bias = np.zeros(self.item_n)\n",
    "        self.user_bias = np.zeros(self.user_n)\n",
    "        self.total_mean = np.mean(self.sparse_matrix[np.where(self.sparse_matrix != 0)])\n",
    "\n",
    "        # Create training Samples\n",
    "        idx, jdx = self.sparse_matrix.nonzero()\n",
    "        samples = list(zip(idx, jdx))\n",
    "\n",
    "        training_log = []\n",
    "        progress = trange(self.n_epochs, desc=\"train-rmse: nan\")\n",
    "        for idx in progress:\n",
    "            np.random.shuffle(samples)\n",
    "\n",
    "            for i, u in samples:\n",
    "                # get error\n",
    "                y = self.sparse_matrix[i, u]\n",
    "                pred = self.predict(i, u)\n",
    "                error = y - pred\n",
    "                # update bias\n",
    "                self.item_bias[i] += self.lr * (error - self.beta * self.item_bias[i])\n",
    "                self.user_bias[u] += self.lr * (error - self.beta * self.user_bias[u])\n",
    "                # update latent factors\n",
    "                I_i = self.I[i,:][:]\n",
    "                self.I[i, :] += self.lr * (error * self.U[u,:] - self.beta * self.I[i,:])\n",
    "                self.U[u, :] += self.lr * (error * I_i - self.beta * self.U[u,:])\n",
    "\n",
    "            rmse = self.evaluate()\n",
    "            progress.set_description(\"train-rmse: %0.6f\" % rmse)\n",
    "            progress.refresh()\n",
    "            training_log.append((idx, rmse))\n",
    "\n",
    "        self.pred_matrix =  self.get_pred_matrix()\n",
    "\n",
    "    def predict(self, i, u):\n",
    "        \"\"\"\n",
    "        :param i: item index\n",
    "        :param u: user index\n",
    "        :return: predicted rating\n",
    "        \"\"\"\n",
    "        return (\n",
    "            self.total_mean\n",
    "            + self.item_bias[i]\n",
    "            + self.user_bias[u]\n",
    "            + self.U[u,:].dot(self.I[i,:].T)\n",
    "        )\n",
    "\n",
    "    def get_pred_matrix(self):\n",
    "        return (\n",
    "            self.total_mean\n",
    "            + self.item_bias[:,np.newaxis]\n",
    "            + self.user_bias[np.newaxis:,]\n",
    "            + self.I.dot(self.U.T)\n",
    "        )\n",
    "\n",
    "    def evaluate(self):\n",
    "        idx, jdx = self.sparse_matrix.nonzero()\n",
    "        pred_matrix = self.get_pred_matrix()\n",
    "        ys, preds = [], []\n",
    "        for i, j in zip(idx, jdx):\n",
    "            ys.append(self.sparse_matrix[i, j])\n",
    "            preds.append(pred_matrix[i, j])\n",
    "\n",
    "        error = mean_squared_error(ys, preds)\n",
    "        return np.sqrt(error)\n",
    "\n",
    "    def test_evaluate(self, test_set):\n",
    "        pred_matrix = self.get_pred_matrix()\n",
    "        ys, preds = [], []\n",
    "        for i, j, rating in test_set:\n",
    "            ys.append(rating)\n",
    "            preds.append(pred_matrix[i, j])\n",
    "\n",
    "        error = mean_squared_error(ys, preds)\n",
    "        return np.sqrt(error)"
   ]
  },
  {
   "cell_type": "code",
   "execution_count": 42,
   "id": "8093055a",
   "metadata": {},
   "outputs": [],
   "source": [
    "import pandas as pd\n",
    "\n",
    "data = {\n",
    "    'user1': [4, 3, np.nan, np.nan, 5, np.nan],\n",
    "    'user2': [5, np.nan, 4, np.nan, np.nan, np.nan],\n",
    "    'user3': [np.nan, np.nan, np.nan, 3, 4, np.nan],\n",
    "    'user4': [1, 0, 0, np.nan, np.nan, 2],\n",
    "}\n",
    "\n",
    "movies = ['Movie A', 'Movie B', 'Movie C', 'Movie D', 'Movie E', 'Movie F']\n",
    "\n",
    "movie_ratings = pd.DataFrame(data, index=movies)"
   ]
  },
  {
   "cell_type": "code",
   "execution_count": 43,
   "id": "7c449da9",
   "metadata": {},
   "outputs": [
    {
     "data": {
      "text/html": [
       "<div>\n",
       "<style scoped>\n",
       "    .dataframe tbody tr th:only-of-type {\n",
       "        vertical-align: middle;\n",
       "    }\n",
       "\n",
       "    .dataframe tbody tr th {\n",
       "        vertical-align: top;\n",
       "    }\n",
       "\n",
       "    .dataframe thead th {\n",
       "        text-align: right;\n",
       "    }\n",
       "</style>\n",
       "<table border=\"1\" class=\"dataframe\">\n",
       "  <thead>\n",
       "    <tr style=\"text-align: right;\">\n",
       "      <th></th>\n",
       "      <th>user1</th>\n",
       "      <th>user2</th>\n",
       "      <th>user3</th>\n",
       "      <th>user4</th>\n",
       "    </tr>\n",
       "  </thead>\n",
       "  <tbody>\n",
       "    <tr>\n",
       "      <th>Movie A</th>\n",
       "      <td>4.0</td>\n",
       "      <td>5.0</td>\n",
       "      <td>NaN</td>\n",
       "      <td>1.0</td>\n",
       "    </tr>\n",
       "    <tr>\n",
       "      <th>Movie B</th>\n",
       "      <td>3.0</td>\n",
       "      <td>NaN</td>\n",
       "      <td>NaN</td>\n",
       "      <td>0.0</td>\n",
       "    </tr>\n",
       "    <tr>\n",
       "      <th>Movie C</th>\n",
       "      <td>NaN</td>\n",
       "      <td>4.0</td>\n",
       "      <td>NaN</td>\n",
       "      <td>0.0</td>\n",
       "    </tr>\n",
       "    <tr>\n",
       "      <th>Movie D</th>\n",
       "      <td>NaN</td>\n",
       "      <td>NaN</td>\n",
       "      <td>3.0</td>\n",
       "      <td>NaN</td>\n",
       "    </tr>\n",
       "    <tr>\n",
       "      <th>Movie E</th>\n",
       "      <td>5.0</td>\n",
       "      <td>NaN</td>\n",
       "      <td>4.0</td>\n",
       "      <td>NaN</td>\n",
       "    </tr>\n",
       "    <tr>\n",
       "      <th>Movie F</th>\n",
       "      <td>NaN</td>\n",
       "      <td>NaN</td>\n",
       "      <td>NaN</td>\n",
       "      <td>2.0</td>\n",
       "    </tr>\n",
       "  </tbody>\n",
       "</table>\n",
       "</div>"
      ],
      "text/plain": [
       "         user1  user2  user3  user4\n",
       "Movie A    4.0    5.0    NaN    1.0\n",
       "Movie B    3.0    NaN    NaN    0.0\n",
       "Movie C    NaN    4.0    NaN    0.0\n",
       "Movie D    NaN    NaN    3.0    NaN\n",
       "Movie E    5.0    NaN    4.0    NaN\n",
       "Movie F    NaN    NaN    NaN    2.0"
      ]
     },
     "execution_count": 43,
     "metadata": {},
     "output_type": "execute_result"
    }
   ],
   "source": [
    "movie_ratings"
   ]
  },
  {
   "cell_type": "code",
   "execution_count": 44,
   "id": "57ba329e",
   "metadata": {},
   "outputs": [
    {
     "name": "stderr",
     "output_type": "stream",
     "text": [
      "train-rmse: 0.391231: 100%|██████████| 100/100 [00:00<00:00, 1090.51it/s]"
     ]
    },
    {
     "name": "stdout",
     "output_type": "stream",
     "text": [
      "Root Mean Squared Error (RMSE) on training set: 0.3912305616780757\n"
     ]
    },
    {
     "name": "stderr",
     "output_type": "stream",
     "text": [
      "\n"
     ]
    }
   ],
   "source": [
    "# Create an instance of SGD with parameters\n",
    "K = 3\n",
    "lr = 0.01\n",
    "beta = 0.02\n",
    "n_epochs = 100\n",
    "\n",
    "sgd_model = SGD(movie_ratings, K, lr, beta, n_epochs)\n",
    "\n",
    "# Train the model\n",
    "sgd_model.train()\n",
    "\n",
    "# Evaluate the model on the training set\n",
    "train_rmse = sgd_model.evaluate()\n",
    "print(\"Root Mean Squared Error (RMSE) on training set:\", train_rmse)"
   ]
  },
  {
   "cell_type": "code",
   "execution_count": 45,
   "id": "30c3c1a6",
   "metadata": {},
   "outputs": [
    {
     "data": {
      "text/plain": [
       "array([[3.87565366, 4.28032121, 3.33615821, 1.82322775],\n",
       "       [3.09595719, 4.11915249, 3.35027517, 1.55116766],\n",
       "       [3.57901389, 4.29619781, 3.26078626, 1.83467287],\n",
       "       [3.98789476, 4.30744715, 3.06705145, 1.93692947],\n",
       "       [4.92927549, 4.89975331, 3.98219644, 2.40962555],\n",
       "       [3.79620312, 4.00078873, 3.27833015, 1.75567862]])"
      ]
     },
     "execution_count": 45,
     "metadata": {},
     "output_type": "execute_result"
    }
   ],
   "source": [
    "sgd_model.get_pred_matrix()"
   ]
  },
  {
   "cell_type": "code",
   "execution_count": null,
   "id": "03b58a13",
   "metadata": {},
   "outputs": [],
   "source": []
  }
 ],
 "metadata": {
  "kernelspec": {
   "display_name": "Python 3 (ipykernel)",
   "language": "python",
   "name": "python3"
  },
  "language_info": {
   "codemirror_mode": {
    "name": "ipython",
    "version": 3
   },
   "file_extension": ".py",
   "mimetype": "text/x-python",
   "name": "python",
   "nbconvert_exporter": "python",
   "pygments_lexer": "ipython3",
   "version": "3.10.9"
  }
 },
 "nbformat": 4,
 "nbformat_minor": 5
}
